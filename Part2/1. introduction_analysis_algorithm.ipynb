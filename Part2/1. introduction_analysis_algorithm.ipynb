{
 "cells": [
  {
   "cell_type": "markdown",
   "metadata": {},
   "source": [
    "#Objectives  \n",
    "1. To understand why algorithm analysis is important.  \n",
    "2. To be able to use “Big-O” to describe execution time.  \n",
    "3. To understand the “Big-O” execution time of common operations on Python lists and dictionaries.  \n",
    "4. To understand how the implementation of Python data impacts algorithm analysis.  \n",
    "5. To understand how to benchmark simple Python programs.  "
   ]
  },
  {
   "cell_type": "markdown",
   "metadata": {},
   "source": [
    "#What is Algorithm Analysis?  \n",
    "컴퓨터 프로그래밍을 하다 보면 한 가지 간단한 문제를 풀더라도, 서로 다른 답이 나올 수 있다.  \n",
    "\n",
    "1. 그렇다면 여러 가지 답 중 어떤 것이 더 '좋은' 알고리즘인가?\n",
    "\n",
    "프로그램은 그 목적에 따른 해결책을 내기 위한 알고리즘들의 집합입니다. 그리고, 프로그래밍 언어 및 프로그래머에 따라 같은 알고리즘을 사용하게 되거나 아예 다르게 될 수도 있습니다.\n",
    "\n",
    " ActiveCode 1과 2를 비교해 봅시다. 둘 다 n개의 정수를 반복하여 합산하는 함수입니다.  "
   ]
  },
  {
   "cell_type": "code",
   "execution_count": 1,
   "metadata": {
    "collapsed": false
   },
   "outputs": [
    {
     "name": "stdout",
     "output_type": "stream",
     "text": [
      "55\n"
     ]
    }
   ],
   "source": [
    "#ActiveCode 1\n",
    "def sumOfN(n):\n",
    "   theSum = 0\n",
    "   for i in range(1,n+1):\n",
    "       theSum = theSum + i\n",
    "\n",
    "   return theSum\n",
    "\n",
    "print(sumOfN(10))"
   ]
  },
  {
   "cell_type": "code",
   "execution_count": 2,
   "metadata": {
    "collapsed": false
   },
   "outputs": [
    {
     "name": "stdout",
     "output_type": "stream",
     "text": [
      "55\n"
     ]
    }
   ],
   "source": [
    "#ActiveCode 2\n",
    "def foo(tom):\n",
    "    fred = 0\n",
    "    for bill in range(1,tom+1):\n",
    "       barney = bill\n",
    "       fred = fred + barney\n",
    "\n",
    "    return fred\n",
    "\n",
    "print(foo(10))"
   ]
  },
  {
   "cell_type": "markdown",
   "metadata": {},
   "source": [
    "ActiveCode 1과 2는 같은 역할을 하지만 한 눈에 다른 점이 보이실것입니다.  \n",
    "\n",
    "1과 달리 2는  \n",
    "1. 가독성 : 무슨 역할을 하는지 모호한 이름 사용  \n",
    "2. 무의미한 변수 할당  \n",
    "으로 한눈에 봐도 1보다 2가 더 안 좋아보입니다.  "
   ]
  },
  {
   "cell_type": "markdown",
   "metadata": {},
   "source": [
    "#그러나..\n",
    "\n",
    "가독성에서는 차이를 보이나 이 둘은 동일한 '알고리즘'을 사용하고 있습니다.\n",
    "여기서 주목하고자 하는 바는 '알고리즘'입니다.  \n",
    "그렇다면 알고리즘을 분석하기 위한 목표는\n",
    "\n",
    "#알고리즘 분석의 목표\n",
    "\n",
    "1. 시간\n",
    "2. Memory  \n",
    "등의 주요 컴퓨터 자원을 알고리즘이 얼마나 사용하는가입니다.  \n",
    "\n",
    "\n",
    "따라서, 위의 관점으로 보면 두 예제는 합계를 하기 위해 동일한 알고리즘을 사용합니다.\n",
    "\n",
    "\n",
    "\n",
    "#중점적으로\n",
    "이번 장에서는 알고리즘 수행에 필요한 공간 대신 시간에 대해 다뤄봅니다.  \n",
    "실제 Python에서는 우리가 작성한 Function이 실행되는 수행 시간 ('excution time' or 'running time')을 잴 수 있다.\n",
    "1. 알고리즘 수행 시작 시간과 종료 시간의 차를 재는 함수 작성  \n",
    " (time 모듈 이용)\n",
    "2. ipython 기능\n"
   ]
  },
  {
   "cell_type": "markdown",
   "metadata": {},
   "source": [
    "#1. 시간 재는 함수 작성 예제 : annotation 활용"
   ]
  },
  {
   "cell_type": "code",
   "execution_count": 3,
   "metadata": {
    "collapsed": true
   },
   "outputs": [],
   "source": [
    "import time\n",
    "#Time Printing Function Wrapper for void functions\n",
    "def printRunningTime():\n",
    "    def wrapper(func):\n",
    "        def newfunc(*args, **kwargs):\n",
    "            try:\n",
    "                start = time.time()\n",
    "                func(*args, **kwargs)\n",
    "                print ('%10.7f' % (time.time()-start))\n",
    "            except Exception, e:\n",
    "                pass\n",
    "        return newfunc\n",
    "    return wrapper"
   ]
  },
  {
   "cell_type": "code",
   "execution_count": 4,
   "metadata": {
    "collapsed": true
   },
   "outputs": [],
   "source": [
    "@printRunningTime()\n",
    "def testTime():\n",
    "    listsum = sum(xrange(100000))"
   ]
  },
  {
   "cell_type": "code",
   "execution_count": 5,
   "metadata": {
    "collapsed": true
   },
   "outputs": [],
   "source": [
    "testTime()"
   ]
  },
  {
   "cell_type": "markdown",
   "metadata": {},
   "source": [
    " 0.0015400"
   ]
  },
  {
   "cell_type": "markdown",
   "metadata": {},
   "source": [
    "#2. ipython 시간 재는 방법 예시  \n",
    "ipython에는 '매직' 기능이 있다. 문자 앞에 % 표시를 붙여 사용 가능.  \n",
    "시간 재는 매직 기능은 크게 2가지가 있다.  \n",
    "\n",
    " 1. %time : 함수를 한 번 실행하여 그 수행 시간 출력\n",
    " 2. %timeit : 함수를 적절한 시간(함수 수행 속도에 따라 다름) 동안 반복 실행하여, 수행 시간 요약하여 출력함."
   ]
  },
  {
   "cell_type": "code",
   "execution_count": null,
   "metadata": {
    "collapsed": true
   },
   "outputs": [],
   "source": []
  }
 ],
 "metadata": {
  "kernelspec": {
   "display_name": "Python 2",
   "language": "python",
   "name": "python2"
  },
  "language_info": {
   "codemirror_mode": {
    "name": "ipython",
    "version": 2
   },
   "file_extension": ".py",
   "mimetype": "text/x-python",
   "name": "python",
   "nbconvert_exporter": "python",
   "pygments_lexer": "ipython2",
   "version": "2.7.6"
  }
 },
 "nbformat": 4,
 "nbformat_minor": 0
}
