{
 "cells": [
  {
   "cell_type": "markdown",
   "metadata": {},
   "source": [
    "##단어 사다리(Word ladder) 문제\n",
    "\n",
    "### 시작 단어에서 같은 길이를 가지는 목표로 하는 단어로 바꾸되, 한 글자씩 단어가 되도록 바꾸는 게임\n",
    "\n",
    "\n",
    "<font color=\"green\"> **예)** </font> FOOL -> POOL -> POLL -> POLE -> PALE -> SALE -> SAGE\n",
    "\n",
    "### 여기에서는 바꾸는 단계를 최소로 하여 문제 푸는 것을 목표로 한다.\n",
    "\n",
    "****\n",
    "\n",
    "\n",
    "\n",
    "\n",
    "\n",
    "![단어 사다리](./img/wordgraph.png)\n"
   ]
  },
  {
   "cell_type": "markdown",
   "metadata": {},
   "source": [
    "***\n",
    "### 여기서는 같은 길이를 가지는 단어들을 모두 주어진다고 가정.\n",
    "\n",
    "\n",
    "## 방법 1.\n",
    "### 모든 단어들에 대해서 한 글자만 차이가 나는 단어들끼리 찾는 방법.\n",
    "### ==> 이 경우 작은 경우의 수에 대해서는 쉽지만, 이 알고리즘은 대충 O(n^2)이 걸릴 것으로 예상되기 때문에 효율적이지 않다.\n",
    "\n",
    "\n",
    "## 방법 2.\n",
    "### 시작 단어에 대해서 각 자리마다 한 글자씩 차이나는 단어들을 바구니로 나눠 비교하는 방법.\n",
    "### 이 경우 주어진 단어의 갯수가  5,110 개 일 때,\n",
    "### 인접 행렬로 풀 경우, 5,110 * 5,110 = 26,112,100 개의 칸이 필요하지만,\n",
    "### 인접 리스트로 풀 경우, 53,286 변(edge)가 필요하므로, 행렬의 20%정도만 차지한다.\n",
    "\n",
    "![단어바구니](./img/wordbuckets.png)\n",
    "\n",
    "\n",
    "\n"
   ]
  },
  {
   "cell_type": "code",
   "execution_count": 1,
   "metadata": {
    "collapsed": false
   },
   "outputs": [
    {
     "ename": "ImportError",
     "evalue": "No module named pythonds.graphs",
     "output_type": "error",
     "traceback": [
      "\u001b[0;31m---------------------------------------------------------------------------\u001b[0m",
      "\u001b[0;31mImportError\u001b[0m                               Traceback (most recent call last)",
      "\u001b[0;32m<ipython-input-1-f6ece0d7a584>\u001b[0m in \u001b[0;36m<module>\u001b[0;34m()\u001b[0m\n\u001b[0;32m----> 1\u001b[0;31m \u001b[0;32mfrom\u001b[0m \u001b[0mpythonds\u001b[0m\u001b[0;34m.\u001b[0m\u001b[0mgraphs\u001b[0m \u001b[0;32mimport\u001b[0m \u001b[0mGraph\u001b[0m\u001b[0;34m\u001b[0m\u001b[0m\n\u001b[0m\u001b[1;32m      2\u001b[0m \u001b[0;34m\u001b[0m\u001b[0m\n\u001b[1;32m      3\u001b[0m \u001b[0;32mdef\u001b[0m \u001b[0mbuildGraph\u001b[0m\u001b[0;34m(\u001b[0m\u001b[0mwordFile\u001b[0m\u001b[0;34m)\u001b[0m\u001b[0;34m:\u001b[0m\u001b[0;34m\u001b[0m\u001b[0m\n\u001b[1;32m      4\u001b[0m     \u001b[0md\u001b[0m \u001b[0;34m=\u001b[0m \u001b[0;34m{\u001b[0m\u001b[0;34m}\u001b[0m\u001b[0;34m\u001b[0m\u001b[0m\n\u001b[1;32m      5\u001b[0m     \u001b[0mg\u001b[0m \u001b[0;34m=\u001b[0m \u001b[0mGraph\u001b[0m\u001b[0;34m(\u001b[0m\u001b[0;34m)\u001b[0m\u001b[0;34m\u001b[0m\u001b[0m\n",
      "\u001b[0;31mImportError\u001b[0m: No module named pythonds.graphs"
     ]
    }
   ],
   "source": [
    "from pythonds.graphs import Graph\n",
    "\n",
    "def buildGraph(wordFile):\n",
    "    d = {}\n",
    "    g = Graph()\n",
    "    wfile = open(wordFile,'r')\n",
    "    # create buckets of words that differ by one letter\n",
    "    for line in wfile:\n",
    "        word = line[:-1]\n",
    "        for i in range(len(word)):\n",
    "            bucket = word[:i] + '_' + word[i+1:]\n",
    "            if bucket in d:\n",
    "                d[bucket].append(word)\n",
    "            else:\n",
    "                d[bucket] = [word]\n",
    "    # add vertices and edges for words in the same bucket\n",
    "    for bucket in d.keys():\n",
    "        for word1 in d[bucket]:\n",
    "            for word2 in d[bucket]:\n",
    "                if word1 != word2:\n",
    "                    g.addEdge(word1,word2)\n",
    "    return g"
   ]
  },
  {
   "cell_type": "markdown",
   "metadata": {},
   "source": [
    "****\n",
    "\n",
    "## 너비 우선 탐색 ( Breadth First Search )\n",
    "###단어 사다리 문제를 푸는 방법은 너비 우선 탐색의 예이다. [애니메이션](https://www.cs.usfca.edu/~galles/visualization/BFS.html)\n",
    "\n",
    "### 장점 : 최단 거리 경로를 보장한다.\n",
    "\n",
    "### 단점 : 경로가 길 경우, 많은 메모리(큐) 필요.\n",
    "\n",
    "\n",
    "\n",
    "![너비 우선 탐색](./img/bfs1.png)\n",
    "![너비 우선 탐색](./img/bfs2.png)\n",
    "![너비 우선 탐색](./img/bfs3.png)\n",
    "![너비 우선 탐색](./img/bfsDone.png)\n",
    "\n"
   ]
  }
 ],
 "metadata": {
  "kernelspec": {
   "display_name": "Python 2",
   "language": "python",
   "name": "python2"
  },
  "language_info": {
   "codemirror_mode": {
    "name": "ipython",
    "version": 2
   },
   "file_extension": ".py",
   "mimetype": "text/x-python",
   "name": "python",
   "nbconvert_exporter": "python",
   "pygments_lexer": "ipython2",
   "version": "2.7.10"
  }
 },
 "nbformat": 4,
 "nbformat_minor": 0
}
