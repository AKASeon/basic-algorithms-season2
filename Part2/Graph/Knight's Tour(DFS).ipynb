{
 "cells": [
  {
   "cell_type": "markdown",
   "metadata": {},
   "source": [
    "##기사의 여행(Knight's Tour) 알고리즘 정의 및 구현\n",
    "\n",
    ">### 기사 체스말이 체스판의 칸들을 모두 한번씩 돌아 다닐 수 있는 방법을 찾는 문제\n",
    "\n",
    "\n",
    "![기사의 여행](./img/knightmoves.png)"
   ]
  },
  {
   "cell_type": "code",
   "execution_count": 3,
   "metadata": {
    "collapsed": false
   },
   "outputs": [
    {
     "ename": "ImportError",
     "evalue": "No module named pythonds.graphs",
     "output_type": "error",
     "traceback": [
      "\u001b[0;31m---------------------------------------------------------------------------\u001b[0m",
      "\u001b[0;31mImportError\u001b[0m                               Traceback (most recent call last)",
      "\u001b[0;32m<ipython-input-3-454cde6326f9>\u001b[0m in \u001b[0;36m<module>\u001b[0;34m()\u001b[0m\n\u001b[0;32m----> 1\u001b[0;31m \u001b[0;32mfrom\u001b[0m \u001b[0mpythonds\u001b[0m\u001b[0;34m.\u001b[0m\u001b[0mgraphs\u001b[0m \u001b[0;32mimport\u001b[0m \u001b[0mGraph\u001b[0m\u001b[0;34m\u001b[0m\u001b[0m\n\u001b[0m\u001b[1;32m      2\u001b[0m \u001b[0;34m\u001b[0m\u001b[0m\n\u001b[1;32m      3\u001b[0m \u001b[0;32mdef\u001b[0m \u001b[0mknightGraph\u001b[0m\u001b[0;34m(\u001b[0m\u001b[0mbdSize\u001b[0m\u001b[0;34m)\u001b[0m\u001b[0;34m:\u001b[0m\u001b[0;34m\u001b[0m\u001b[0m\n\u001b[1;32m      4\u001b[0m     \u001b[0mktGraph\u001b[0m \u001b[0;34m=\u001b[0m \u001b[0mGraph\u001b[0m\u001b[0;34m(\u001b[0m\u001b[0;34m)\u001b[0m\u001b[0;34m\u001b[0m\u001b[0m\n\u001b[1;32m      5\u001b[0m     \u001b[0;32mfor\u001b[0m \u001b[0mrow\u001b[0m \u001b[0;32min\u001b[0m \u001b[0mrange\u001b[0m\u001b[0;34m(\u001b[0m\u001b[0mbdSize\u001b[0m\u001b[0;34m)\u001b[0m\u001b[0;34m:\u001b[0m\u001b[0;34m\u001b[0m\u001b[0m\n",
      "\u001b[0;31mImportError\u001b[0m: No module named pythonds.graphs"
     ]
    }
   ],
   "source": [
    "from pythonds.graphs import Graph\n",
    "\n",
    "def knightGraph(bdSize):\n",
    "    ktGraph = Graph()\n",
    "    for row in range(bdSize):\n",
    "       for col in range(bdSize):\n",
    "           nodeId = posToNodeId(row,col,bdSize)\n",
    "           newPositions = genLegalMoves(row,col,bdSize)\n",
    "           for e in newPositions:\n",
    "               nid = posToNodeId(e[0],e[1],bdSize)\n",
    "               ktGraph.addEdge(nodeId,nid)\n",
    "    return ktGraph\n",
    "\n",
    "#말의 위치 반환\n",
    "def posToNodeId(row, column, board_size):\n",
    "    return (row * board_size) + column"
   ]
  },
  {
   "cell_type": "code",
   "execution_count": 2,
   "metadata": {
    "collapsed": true
   },
   "outputs": [],
   "source": [
    "#이동 가능한 방향에 대한 리스트 목록반환\n",
    "def genLegalMoves(x,y,bdSize):\n",
    "    newMoves = []\n",
    "    moveOffsets = [(-1,-2),(-1,2),(-2,-1),(-2,1),\n",
    "                   ( 1,-2),( 1,2),( 2,-1),( 2,1)]\n",
    "    for i in moveOffsets:\n",
    "        newX = x + i[0]\n",
    "        newY = y + i[1]\n",
    "        if legalCoord(newX,bdSize) and \\\n",
    "                        legalCoord(newY,bdSize):\n",
    "            newMoves.append((newX,newY))\n",
    "    return newMoves\n",
    "\n",
    "#보드판 범위를 넘어서는지 체크\n",
    "def legalCoord(x,bdSize):\n",
    "    if x >= 0 and x < bdSize:\n",
    "        return True\n",
    "    else:\n",
    "        return False"
   ]
  },
  {
   "cell_type": "markdown",
   "metadata": {},
   "source": [
    "### 64칸의 체스판의 경우 모든 칸들을 연결 할 시 4096개의 연결이 있을 수 있는데, 가장 자리의 칸들이 연결 되지 않기 때문에 336개의 연결만 있다. 이것은 인접행렬의 8.2%를 차지한다.\n",
    "\n",
    "![기사의 여행](./img/bigknight.png)"
   ]
  },
  {
   "cell_type": "code",
   "execution_count": 5,
   "metadata": {
    "collapsed": false
   },
   "outputs": [
    {
     "ename": "ImportError",
     "evalue": "No module named pythonds.graphs",
     "output_type": "error",
     "traceback": [
      "\u001b[0;31m---------------------------------------------------------------------------\u001b[0m",
      "\u001b[0;31mImportError\u001b[0m                               Traceback (most recent call last)",
      "\u001b[0;32m<ipython-input-5-86096f49e271>\u001b[0m in \u001b[0;36m<module>\u001b[0;34m()\u001b[0m\n\u001b[0;32m----> 1\u001b[0;31m \u001b[0;32mfrom\u001b[0m \u001b[0mpythonds\u001b[0m\u001b[0;34m.\u001b[0m\u001b[0mgraphs\u001b[0m \u001b[0;32mimport\u001b[0m \u001b[0mGraph\u001b[0m\u001b[0;34m,\u001b[0m \u001b[0mVertex\u001b[0m\u001b[0;34m\u001b[0m\u001b[0m\n\u001b[0m\u001b[1;32m      2\u001b[0m \u001b[0;31m# n은 현재의 깊이\u001b[0m\u001b[0;34m\u001b[0m\u001b[0;34m\u001b[0m\u001b[0m\n\u001b[1;32m      3\u001b[0m \u001b[0;31m# path는 경로\u001b[0m\u001b[0;34m\u001b[0m\u001b[0;34m\u001b[0m\u001b[0m\n\u001b[1;32m      4\u001b[0m \u001b[0;31m# u는 탐색할 노드\u001b[0m\u001b[0;34m\u001b[0m\u001b[0;34m\u001b[0m\u001b[0m\n\u001b[1;32m      5\u001b[0m \u001b[0;31m# limit 한계 깊이\u001b[0m\u001b[0;34m\u001b[0m\u001b[0;34m\u001b[0m\u001b[0m\n",
      "\u001b[0;31mImportError\u001b[0m: No module named pythonds.graphs"
     ]
    }
   ],
   "source": [
    "from pythonds.graphs import Graph, Vertex\n",
    "# n은 현재의 깊이\n",
    "# path는 경로\n",
    "# u는 탐색할 노드\n",
    "# limit 한계 깊이\n",
    "def knightTour(n,path,u,limit):\n",
    "        u.setColor('gray')\n",
    "        path.append(u)\n",
    "        if n < limit:\n",
    "            nbrList = list(u.getConnections())\n",
    "            i = 0\n",
    "            done = False\n",
    "            while i < len(nbrList) and not done:\n",
    "                if nbrList[i].getColor() == 'white':\n",
    "                    done = knightTour(n+1, path, nbrList[i], limit)\n",
    "                i = i + 1\n",
    "            if not done:  # prepare to backtrack\n",
    "                path.pop()\n",
    "                u.setColor('white')\n",
    "        else:\n",
    "            done = True\n",
    "        return done"
   ]
  },
  {
   "cell_type": "markdown",
   "metadata": {},
   "source": [
    "![이미지](./img/ktdfsa.png)\n",
    "![이미지](./img/ktdfsb.png)\n",
    "![이미지](./img/ktdfsc.png)\n",
    "![이미지](./img/ktdfsd.png)\n",
    "![이미지](./img/ktdfse.png)\n",
    "![이미지](./img/ktdfsf.png)\n",
    "![이미지](./img/ktdfsg.png)\n",
    "![이미지](./img/ktdfsh.png)\n",
    "![이미지](./img/completeTour.png)\n",
    "\n",
    "****\n",
    "\n",
    "## 분석\n",
    "\n",
    "###기사의 여행 알고리즘은 대략적으로 O(k^n).   <font color=\"red\">*지수승으로 증가하는게 중요*</font>\n",
    "### k는 기사 말이 갈 수 있는 방향\n",
    "### n은 체스판의 칸 수\n",
    "\n",
    "![이미지](./img/8arrayTree.png)\n",
    "![이미지](./img/moveCount.png)\n",
    "\n",
    "\n",
    "### 하지만 실제로는 체스판의 가장자리쪽에서 모든 방향으로 움직일 수 없기 때문에 좀 더 작음.( 그래도 지수승 증가..)\n"
   ]
  }
 ],
 "metadata": {
  "kernelspec": {
   "display_name": "Python 2",
   "language": "python",
   "name": "python2"
  },
  "language_info": {
   "codemirror_mode": {
    "name": "ipython",
    "version": 2
   },
   "file_extension": ".py",
   "mimetype": "text/x-python",
   "name": "python",
   "nbconvert_exporter": "python",
   "pygments_lexer": "ipython2",
   "version": "2.7.10"
  }
 },
 "nbformat": 4,
 "nbformat_minor": 0
}
