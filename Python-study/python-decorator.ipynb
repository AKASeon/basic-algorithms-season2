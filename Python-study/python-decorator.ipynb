{
 "metadata": {
  "name": "",
  "signature": "sha256:267b7e75cf3fa1f92084abef692453c7fa7b84d472030669f331b65b5c8a1d51"
 },
 "nbformat": 3,
 "nbformat_minor": 0,
 "worksheets": [
  {
   "cells": [
    {
     "cell_type": "markdown",
     "metadata": {},
     "source": [
      "# \ud30c\uc774\uc36c \ub370\ucf54\ub808\uc774\ud130(Python Decorator) \ub97c \uc81c\ub300\ub85c \uc774\ud574\ud558\uace0 \uc798 \uc368\ubcf4\uc790!\n",
      "\ud30c\uc774\uc36c \ucf54\ub4dc\ub97c \ubcf4\ub2e4\ubcf4\uba74 \uac04\ud639 \uc815\uc758\ub41c \ud568\uc218 \uc704\uc5d0 ```@```\uac00 \ubd99\uc740 \uc9e7\uc740 \ubb38\uc7a5, \uc758\ubbf8\uc0c1\uc73c\ub85c\ub294 \ud568\uc218\uba85\uc744 \uac19\uae30\ub3c4\ud55c \uac83\ub4e4\uc774 \uc788\ub294 \uac83\uc744 \ubcf8\uc801\uc774 \ub9ce\uc744 \uac83\uc774\ub2e4.  \n",
      "\uc5b4\ub5bb\uac8c \ubcf4\uba74 \ubb38\uc11c\ud654\ub97c \uc704\ud55c [Docstring](https://en.wikipedia.org/wiki/Docstring)\uc73c\ub85c \ubcf4\uc77c \uc218\ub3c4 \uc788\ub294\ub370 \uc774\uac83\uc740 \uc0ac\uc2e4 **\ub370\ucf54\ub808\uc774\ud130(Decorator)**\ub77c\uace0 \ubd88\ub9ac\ub294 \ud568\uc218 \ud45c\ud604\uc774\ub2e4.  \n",
      "\uc774\ub984\uc5d0\uc11c \uc608\uc0c1\ud560 \uc218 \uc788\ub4ef\uc774 \ubb34\uc5c7\uc778\uac00 \uafb8\uba70\uc8fc\ub294 \uc5ed\ud560\uc744 \ud560 \uac83 \uac19\uc740\ub370, \uc815\ub9d0\ub85c \uadf8\ub807\ub2e4.  \n",
      "\ub370\ucf54\ub808\uc774\ud130\ub294 \ud568\uc218\ub97c \uafb8\uba70\uc8fc\ub294(?)\ub294 \ud568\uc218\uc774\ub2e4. \uc870\uae08 \ub354 \uc815\ud655\ud558\uac8c \ub9d0\ud558\uc790\uba74 \uae30\uc874\uc5d0 \uc815\uc758\ub41c \ud568\uc218\uc758 \ub2a5\ub825\uc744 \ud655\uc7a5\ud560 \uc218 \uc788\uac8c \ud574\uc8fc\ub294 \ud568\uc218\uc774\ub2e4.  \n",
      "\n",
      "## \ud30c\uc774\uc36c \ud568\uc218\uc758 \ud2b9\uc9d5\n",
      "\ud30c\uc774\uc36c\uc758 \ud568\uc218\ub294 [\uc77c\uae09 \uac1d\uccb4(First class object)](https://ko.wikipedia.org/wiki/%EC%9D%BC%EA%B8%89_%EA%B0%9D%EC%B2%B4)\uc774\ub2e4.  \n",
      "\ud30c\uc774\uc36c \ud568\uc218\uc758 \ud2b9\uc9d5\uc740 \ub2e4\uc74c\uacfc \uac19\ub2e4.  \n",
      "\n",
      "#### 1. \ubcc0\uc218\uc5d0 \ud560\ub2f9\ud560 \uc218 \uc788\ub2e4."
     ]
    },
    {
     "cell_type": "code",
     "collapsed": false,
     "input": [
      "def greet(name):\n",
      "    return \"Hello {}\".format(name)\n",
      "    \n",
      "greet_someone = greet\n",
      "greet_someone(\"Eunwoo\")"
     ],
     "language": "python",
     "metadata": {},
     "outputs": [
      {
       "metadata": {},
       "output_type": "pyout",
       "prompt_number": 13,
       "text": [
        "'Hello Eunwoo'"
       ]
      }
     ],
     "prompt_number": 13
    },
    {
     "cell_type": "markdown",
     "metadata": {},
     "source": [
      "#### 2. \ub2e4\ub978 \ud568\uc218\ub0b4\uc5d0\uc11c \uc815\uc758\ub420 \uc218 \uc788\ub2e4."
     ]
    },
    {
     "cell_type": "code",
     "collapsed": false,
     "input": [
      "def greeting(name):\n",
      "    def greet_message():\n",
      "        return 'Hello'\n",
      "    return \"{} {}\".format(greet_message(), name)\n",
      "\n",
      "greeting(\"Eunwoo\")"
     ],
     "language": "python",
     "metadata": {},
     "outputs": [
      {
       "metadata": {},
       "output_type": "pyout",
       "prompt_number": 14,
       "text": [
        "'Hello Eunwoo'"
       ]
      }
     ],
     "prompt_number": 14
    },
    {
     "cell_type": "markdown",
     "metadata": {},
     "source": [
      "#### 3. \ud568\uc218\uc758 \uc778\uc790\ub85c \uc804\ub2ec\ud560 \uc218 \uc788\ub2e4."
     ]
    },
    {
     "cell_type": "code",
     "collapsed": false,
     "input": [
      "def change_name_greet(func):\n",
      "    name = \"Narae\"\n",
      "    return func(name)\n",
      "\n",
      "change_name_greet(greet)"
     ],
     "language": "python",
     "metadata": {},
     "outputs": [
      {
       "metadata": {},
       "output_type": "pyout",
       "prompt_number": 15,
       "text": [
        "'Hello Narae'"
       ]
      }
     ],
     "prompt_number": 15
    },
    {
     "cell_type": "markdown",
     "metadata": {},
     "source": [
      "#### 4. \ud568\uc218\uc758 \ubc18\ud658\uac12\uc774 \ub420 \uc218 \uc788\ub2e4."
     ]
    },
    {
     "cell_type": "code",
     "collapsed": false,
     "input": [
      "def uppercase(func):\n",
      "    def wrapper(name):\n",
      "        result = func(name)\n",
      "        return result.upper()\n",
      "    return wrapper\n",
      "\n",
      "new_greet = uppercase(greet)\n",
      "new_greet(\"eunwoo\")"
     ],
     "language": "python",
     "metadata": {},
     "outputs": [
      {
       "metadata": {},
       "output_type": "pyout",
       "prompt_number": 18,
       "text": [
        "'HELLO EUNWOO'"
       ]
      }
     ],
     "prompt_number": 18
    },
    {
     "cell_type": "markdown",
     "metadata": {},
     "source": [
      "## \ub370\ucf54\ub808\uc774\ud130(Decorator)? \uc5b8\uc81c \uc368\uc57c\ud560\uae4c?\n",
      "* \uae30\uc874 \ud568\uc218\uc5d0 \uae30\ub2a5\uc744 \ucd94\uac00\ud558\uace0, \uc0c8\ub85c\uc6b4 \ud568\uc218\ub97c \ub9cc\ub4dc\ub294 \uc5ed\ud560\n",
      "* Python2.2\uc5d0\uc11c ```@staticmethod```, ```@classmethod``` \ub85c \uc18c\uac1c\ub428\n",
      "* [PEP 318](https://www.python.org/dev/peps/pep-0318)\n",
      "* \uc5b4\ub5a4 \ub3d9\uc791\uc744 \ud568\uc218\uc758 \uc804/\ud6c4\uc5d0 \uc218\ud589\ud574\uc57c \ud558\uac70\ub098, \uacf5\ud1b5\uc801\uc73c\ub85c \uc0ac\uc6a9\ud558\ub294 \ucf54\ub4dc\ub97c \uc27d\uac8c \uad00\ub9ac\ud558\uae30 \uc704\ud574 \uc0ac\uc6a9\n",
      "\n",
      "## \ub370\ucf54\ub808\uc774\ud130 \ubb38\ubc95(Syntax)\n",
      "\ub370\ucf54\ub808\uc774\ud130 \ud45c\ud604\ubc95\uc744 \ubcf4\uae30\uc804\uc5d0 \uba3c\uc800 \ub370\ucf54\ub808\uc774\ud130\uc640 \uac19\uc740 \uc5ed\ud560\uc744 \ud558\ub294 \ud568\uc218\ub97c \ub9cc\ub4e4\uc5b4\ubcf4\uc790.  "
     ]
    },
    {
     "cell_type": "code",
     "collapsed": false,
     "input": [
      "class Greet(object):\n",
      "    current_user = None\n",
      "    def set_name(self, name):\n",
      "        if name == 'admin':\n",
      "            self.current_user = name\n",
      "        else:\n",
      "            raise Exception(\"\uad8c\ud55c\uc774 \uc5c6\ub124\uc694\")\n",
      "            \n",
      "    def get_greeting(self, name):\n",
      "        if name == 'admin':\n",
      "            return \"Hello {}\".format(self.current_user)\n",
      "\n",
      "greet = Greet()\n",
      "greet.set_name('eunwoo')"
     ],
     "language": "python",
     "metadata": {},
     "outputs": [
      {
       "ename": "Exception",
       "evalue": "\uad8c\ud55c\uc774 \uc5c6\ub124\uc694",
       "output_type": "pyerr",
       "traceback": [
        "\u001b[0;31m---------------------------------------------------------------------------\u001b[0m\n\u001b[0;31mException\u001b[0m                                 Traceback (most recent call last)",
        "\u001b[0;32m<ipython-input-34-04060cea2324>\u001b[0m in \u001b[0;36m<module>\u001b[0;34m()\u001b[0m\n\u001b[1;32m     12\u001b[0m \u001b[0;34m\u001b[0m\u001b[0m\n\u001b[1;32m     13\u001b[0m \u001b[0mgreet\u001b[0m \u001b[0;34m=\u001b[0m \u001b[0mGreet\u001b[0m\u001b[0;34m(\u001b[0m\u001b[0;34m)\u001b[0m\u001b[0;34m\u001b[0m\u001b[0m\n\u001b[0;32m---> 14\u001b[0;31m \u001b[0mgreet\u001b[0m\u001b[0;34m.\u001b[0m\u001b[0mset_name\u001b[0m\u001b[0;34m(\u001b[0m\u001b[0;34m'eunwoo'\u001b[0m\u001b[0;34m)\u001b[0m\u001b[0;34m\u001b[0m\u001b[0m\n\u001b[0m",
        "\u001b[0;32m<ipython-input-34-04060cea2324>\u001b[0m in \u001b[0;36mset_name\u001b[0;34m(self, name)\u001b[0m\n\u001b[1;32m      5\u001b[0m             \u001b[0mself\u001b[0m\u001b[0;34m.\u001b[0m\u001b[0mcurrent_user\u001b[0m \u001b[0;34m=\u001b[0m \u001b[0mname\u001b[0m\u001b[0;34m\u001b[0m\u001b[0m\n\u001b[1;32m      6\u001b[0m         \u001b[0;32melse\u001b[0m\u001b[0;34m:\u001b[0m\u001b[0;34m\u001b[0m\u001b[0m\n\u001b[0;32m----> 7\u001b[0;31m             \u001b[0;32mraise\u001b[0m \u001b[0mException\u001b[0m\u001b[0;34m(\u001b[0m\u001b[0;34m\"\uad8c\ud55c\uc774 \uc5c6\ub124\uc694\"\u001b[0m\u001b[0;34m)\u001b[0m\u001b[0;34m\u001b[0m\u001b[0m\n\u001b[0m\u001b[1;32m      8\u001b[0m \u001b[0;34m\u001b[0m\u001b[0m\n\u001b[1;32m      9\u001b[0m     \u001b[0;32mdef\u001b[0m \u001b[0mget_greeting\u001b[0m\u001b[0;34m(\u001b[0m\u001b[0mself\u001b[0m\u001b[0;34m,\u001b[0m \u001b[0mname\u001b[0m\u001b[0;34m)\u001b[0m\u001b[0;34m:\u001b[0m\u001b[0;34m\u001b[0m\u001b[0m\n",
        "\u001b[0;31mException\u001b[0m: \uad8c\ud55c\uc774 \uc5c6\ub124\uc694"
       ]
      }
     ],
     "prompt_number": 34
    },
    {
     "cell_type": "markdown",
     "metadata": {},
     "source": [
      "\uc774 \ud074\ub798\uc2a4\uc758 \uba54\uc18c\ub4dc\ub4e4\uc740 \uc804\ub2ec\ubc1b\uc740 name \uc778\uc790\uac00 admin \uc77c\ub54c\ub9cc \uc218\ud589\ud558\ub294 \ubd80\ubd84\ub4e4\uc744 \uac16\uace0 \uc788\ub2e4.  \n",
      "\uacf5\ud1b5\uc801\uc73c\ub85c \uc0ac\uc6a9\ud558\ub294 \ubd80\ubd84\uc744 \ub530\ub85c \ub5bc\uc5b4\ub0bc \uc218 \uc788\uc744 \uac83 \uac19\ub2e4."
     ]
    },
    {
     "cell_type": "code",
     "collapsed": false,
     "input": [
      "def is_admin(user_name):\n",
      "    if user_name != 'admin':\n",
      "        raise Exception(\"\uad8c\ud55c\uc774 \uc5c6\ub2e4\ub2c8\uae4c\uc694\")\n",
      "        \n",
      "class Greet(object):\n",
      "    current_user = None\n",
      "    def set_name(self, name):\n",
      "        is_admin(name)\n",
      "        self.current_user = name\n",
      "            \n",
      "    def get_greeting(self, name):\n",
      "        is_admin(name)\n",
      "        return \"Hello {}\".format(self.current_user)\n",
      "\n",
      "greet = Greet()\n",
      "greet.set_name('admin')\n",
      "greet.get_greeting('eunwoo')"
     ],
     "language": "python",
     "metadata": {},
     "outputs": [
      {
       "ename": "Exception",
       "evalue": "\uad8c\ud55c\uc774 \uc5c6\ub2e4\ub2c8\uae4c\uc694",
       "output_type": "pyerr",
       "traceback": [
        "\u001b[0;31m---------------------------------------------------------------------------\u001b[0m\n\u001b[0;31mException\u001b[0m                                 Traceback (most recent call last)",
        "\u001b[0;32m<ipython-input-35-3f79f20b3c05>\u001b[0m in \u001b[0;36m<module>\u001b[0;34m()\u001b[0m\n\u001b[1;32m     15\u001b[0m \u001b[0mgreet\u001b[0m \u001b[0;34m=\u001b[0m \u001b[0mGreet\u001b[0m\u001b[0;34m(\u001b[0m\u001b[0;34m)\u001b[0m\u001b[0;34m\u001b[0m\u001b[0m\n\u001b[1;32m     16\u001b[0m \u001b[0mgreet\u001b[0m\u001b[0;34m.\u001b[0m\u001b[0mset_name\u001b[0m\u001b[0;34m(\u001b[0m\u001b[0;34m'admin'\u001b[0m\u001b[0;34m)\u001b[0m\u001b[0;34m\u001b[0m\u001b[0m\n\u001b[0;32m---> 17\u001b[0;31m \u001b[0mgreet\u001b[0m\u001b[0;34m.\u001b[0m\u001b[0mget_greeting\u001b[0m\u001b[0;34m(\u001b[0m\u001b[0;34m'eunwoo'\u001b[0m\u001b[0;34m)\u001b[0m\u001b[0;34m\u001b[0m\u001b[0m\n\u001b[0m",
        "\u001b[0;32m<ipython-input-35-3f79f20b3c05>\u001b[0m in \u001b[0;36mget_greeting\u001b[0;34m(self, name)\u001b[0m\n\u001b[1;32m     10\u001b[0m \u001b[0;34m\u001b[0m\u001b[0m\n\u001b[1;32m     11\u001b[0m     \u001b[0;32mdef\u001b[0m \u001b[0mget_greeting\u001b[0m\u001b[0;34m(\u001b[0m\u001b[0mself\u001b[0m\u001b[0;34m,\u001b[0m \u001b[0mname\u001b[0m\u001b[0;34m)\u001b[0m\u001b[0;34m:\u001b[0m\u001b[0;34m\u001b[0m\u001b[0m\n\u001b[0;32m---> 12\u001b[0;31m         \u001b[0mis_admin\u001b[0m\u001b[0;34m(\u001b[0m\u001b[0mname\u001b[0m\u001b[0;34m)\u001b[0m\u001b[0;34m\u001b[0m\u001b[0m\n\u001b[0m\u001b[1;32m     13\u001b[0m         \u001b[0;32mreturn\u001b[0m \u001b[0;34m\"Hello {}\"\u001b[0m\u001b[0;34m.\u001b[0m\u001b[0mformat\u001b[0m\u001b[0;34m(\u001b[0m\u001b[0mself\u001b[0m\u001b[0;34m.\u001b[0m\u001b[0mcurrent_user\u001b[0m\u001b[0;34m)\u001b[0m\u001b[0;34m\u001b[0m\u001b[0m\n\u001b[1;32m     14\u001b[0m \u001b[0;34m\u001b[0m\u001b[0m\n",
        "\u001b[0;32m<ipython-input-35-3f79f20b3c05>\u001b[0m in \u001b[0;36mis_admin\u001b[0;34m(user_name)\u001b[0m\n\u001b[1;32m      1\u001b[0m \u001b[0;32mdef\u001b[0m \u001b[0mis_admin\u001b[0m\u001b[0;34m(\u001b[0m\u001b[0muser_name\u001b[0m\u001b[0;34m)\u001b[0m\u001b[0;34m:\u001b[0m\u001b[0;34m\u001b[0m\u001b[0m\n\u001b[1;32m      2\u001b[0m     \u001b[0;32mif\u001b[0m \u001b[0muser_name\u001b[0m \u001b[0;34m!=\u001b[0m \u001b[0;34m'admin'\u001b[0m\u001b[0;34m:\u001b[0m\u001b[0;34m\u001b[0m\u001b[0m\n\u001b[0;32m----> 3\u001b[0;31m         \u001b[0;32mraise\u001b[0m \u001b[0mException\u001b[0m\u001b[0;34m(\u001b[0m\u001b[0;34m\"\uad8c\ud55c\uc774 \uc5c6\ub2e4\ub2c8\uae4c\uc694\"\u001b[0m\u001b[0;34m)\u001b[0m\u001b[0;34m\u001b[0m\u001b[0m\n\u001b[0m\u001b[1;32m      4\u001b[0m \u001b[0;34m\u001b[0m\u001b[0m\n\u001b[1;32m      5\u001b[0m \u001b[0;32mclass\u001b[0m \u001b[0mGreet\u001b[0m\u001b[0;34m(\u001b[0m\u001b[0mobject\u001b[0m\u001b[0;34m)\u001b[0m\u001b[0;34m:\u001b[0m\u001b[0;34m\u001b[0m\u001b[0m\n",
        "\u001b[0;31mException\u001b[0m: \uad8c\ud55c\uc774 \uc5c6\ub2e4\ub2c8\uae4c\uc694"
       ]
      }
     ],
     "prompt_number": 35
    },
    {
     "cell_type": "markdown",
     "metadata": {},
     "source": [
      "\uc870\uae08 \ub354 \uc88b\uc544\uc84c\ub2e4. \ud558\uc9c0\ub9cc \ub370\ucf54\ub808\uc774\ud130\ub97c \uc4f0\uba74 \ub354 \uc88b\uc740 \ucf54\ub4dc\uac00 \ub420 \uc218 \uc788\ub2e4.  "
     ]
    },
    {
     "cell_type": "code",
     "collapsed": false,
     "input": [
      "def is_admin(func):\n",
      "    def wrapper(*args, **kwargs):\n",
      "        \"\"\"\n",
      "        decorate\n",
      "        \"\"\"\n",
      "        if kwargs.get('username') != 'admin':\n",
      "            raise Exception(\"\uc544 \uc9c4\uc9dc \uc548\ub41c\ub2e4\ub2c8\uae4c \uadf8\ub7ec\ub124..\")\n",
      "        return func(*args, **kwargs)\n",
      "    return wrapper\n",
      "        \n",
      "class Greet(object):\n",
      "    current_user = None\n",
      "    \n",
      "    @is_admin\n",
      "    def set_name(self, username):\n",
      "        self.current_user = username\n",
      "            \n",
      "    @is_admin\n",
      "    def get_greeting(self, username):\n",
      "        \"\"\"\n",
      "        greeting\n",
      "        \n",
      "        :param username: \uc774\ub984 \n",
      "        :type username: string\n",
      "        \"\"\"\n",
      "        return \"Hello {}\".format(self.current_user)\n",
      "\n",
      "greet = Greet()\n",
      "greet.set_name(username='admin')\n",
      "greet.get_greeting(username='admin')"
     ],
     "language": "python",
     "metadata": {},
     "outputs": [
      {
       "metadata": {},
       "output_type": "pyout",
       "prompt_number": 60,
       "text": [
        "'Hello admin'"
       ]
      }
     ],
     "prompt_number": 60
    },
    {
     "cell_type": "code",
     "collapsed": false,
     "input": [
      "greet.get_greeting(username='eunwoo')"
     ],
     "language": "python",
     "metadata": {},
     "outputs": [
      {
       "ename": "Exception",
       "evalue": "\uc544 \uc9c4\uc9dc \uc548\ub41c\ub2e4\ub2c8\uae4c \uadf8\ub7ec\ub124..",
       "output_type": "pyerr",
       "traceback": [
        "\u001b[0;31m---------------------------------------------------------------------------\u001b[0m\n\u001b[0;31mException\u001b[0m                                 Traceback (most recent call last)",
        "\u001b[0;32m<ipython-input-61-2aed1f705388>\u001b[0m in \u001b[0;36m<module>\u001b[0;34m()\u001b[0m\n\u001b[0;32m----> 1\u001b[0;31m \u001b[0mgreet\u001b[0m\u001b[0;34m.\u001b[0m\u001b[0mget_greeting\u001b[0m\u001b[0;34m(\u001b[0m\u001b[0musername\u001b[0m\u001b[0;34m=\u001b[0m\u001b[0;34m'eunwoo'\u001b[0m\u001b[0;34m)\u001b[0m\u001b[0;34m\u001b[0m\u001b[0m\n\u001b[0m",
        "\u001b[0;32m<ipython-input-60-f1529a570fbc>\u001b[0m in \u001b[0;36mwrapper\u001b[0;34m(*args, **kwargs)\u001b[0m\n\u001b[1;32m      5\u001b[0m         \"\"\"\n\u001b[1;32m      6\u001b[0m         \u001b[0;32mif\u001b[0m \u001b[0mkwargs\u001b[0m\u001b[0;34m.\u001b[0m\u001b[0mget\u001b[0m\u001b[0;34m(\u001b[0m\u001b[0;34m'username'\u001b[0m\u001b[0;34m)\u001b[0m \u001b[0;34m!=\u001b[0m \u001b[0;34m'admin'\u001b[0m\u001b[0;34m:\u001b[0m\u001b[0;34m\u001b[0m\u001b[0m\n\u001b[0;32m----> 7\u001b[0;31m             \u001b[0;32mraise\u001b[0m \u001b[0mException\u001b[0m\u001b[0;34m(\u001b[0m\u001b[0;34m\"\uc544 \uc9c4\uc9dc \uc548\ub41c\ub2e4\ub2c8\uae4c \uadf8\ub7ec\ub124..\"\u001b[0m\u001b[0;34m)\u001b[0m\u001b[0;34m\u001b[0m\u001b[0m\n\u001b[0m\u001b[1;32m      8\u001b[0m         \u001b[0;32mreturn\u001b[0m \u001b[0mfunc\u001b[0m\u001b[0;34m(\u001b[0m\u001b[0;34m*\u001b[0m\u001b[0margs\u001b[0m\u001b[0;34m,\u001b[0m \u001b[0;34m**\u001b[0m\u001b[0mkwargs\u001b[0m\u001b[0;34m)\u001b[0m\u001b[0;34m\u001b[0m\u001b[0m\n\u001b[1;32m      9\u001b[0m     \u001b[0;32mreturn\u001b[0m \u001b[0mwrapper\u001b[0m\u001b[0;34m\u001b[0m\u001b[0m\n",
        "\u001b[0;31mException\u001b[0m: \uc544 \uc9c4\uc9dc \uc548\ub41c\ub2e4\ub2c8\uae4c \uadf8\ub7ec\ub124.."
       ]
      }
     ],
     "prompt_number": 61
    },
    {
     "cell_type": "markdown",
     "metadata": {},
     "source": [
      "## \uba54\uc18c\ub4dc\uc758 \uc18d\uc131 \uc720\uc9c0\ud558\uae30\n",
      "\uc704\uc640 \uac19\uc774 \ub370\ucf54\ub808\uc774\ud130\ub97c \ub9cc\ub4e4\uac8c \ub418\uba74 \uc6d0\ub798 \ud568\uc218\uc758 \uc18d\uc131\ub4e4\uc774 \uc0ac\ub77c\uc9c0\ub294 \ubb38\uc81c\uc810\uc774 \ubc1c\uc0dd\ud55c\ub2e4.  \n",
      "\uc774\uac83\uc744 \ubcf4\uc644\ud558\uae30 \uc704\ud574 functools \ubaa8\ub4c8\uc5d0\ub294 \ub370\ucf54\ub808\uc774\ud130\ub97c \uc704\ud55c \ub370\ucf54\ub808\uc774\ud130 ```@wraps```\uac00 \uc788\ub2e4."
     ]
    },
    {
     "cell_type": "code",
     "collapsed": false,
     "input": [
      "greet.get_greeting.__name__"
     ],
     "language": "python",
     "metadata": {},
     "outputs": [
      {
       "metadata": {},
       "output_type": "pyout",
       "prompt_number": 62,
       "text": [
        "'wrapper'"
       ]
      }
     ],
     "prompt_number": 62
    },
    {
     "cell_type": "code",
     "collapsed": false,
     "input": [
      "greet.set_name.__doc__"
     ],
     "language": "python",
     "metadata": {},
     "outputs": [
      {
       "metadata": {},
       "output_type": "pyout",
       "prompt_number": 63,
       "text": [
        "'\\n        decorate\\n        '"
       ]
      }
     ],
     "prompt_number": 63
    },
    {
     "cell_type": "markdown",
     "metadata": {},
     "source": [
      "\uba54\uc18c\ub4dc\uc758 \\_\\_name\\_\\_ , \\_\\_doc\\_\\_ \uc18d\uc131\uc744 \ud655\uc778\ud574\ubcf4\uba74, wrapper \ud568\uc218\uc758 \uc18d\uc131\uc774 \ub098\uc624\uac8c \ub41c\ub2e4. "
     ]
    },
    {
     "cell_type": "code",
     "collapsed": false,
     "input": [
      "from functools import wraps\n",
      "\n",
      "def is_admin(func):\n",
      "    @wraps(func)\n",
      "    def wrapper(*args, **kwargs):\n",
      "        if kwargs.get('username') != 'admin':\n",
      "            raise Exception(\"\uc544 \uc9c4\uc9dc \uc548\ub41c\ub2e4\ub2c8\uae4c \uadf8\ub7ec\ub124..\")\n",
      "        return func(*args, **kwargs)\n",
      "    return wrapper\n",
      "        \n",
      "class Greet(object):\n",
      "    current_user = None\n",
      "    \n",
      "    @is_admin\n",
      "    def set_name(self, username):\n",
      "        self.current_user = username\n",
      "            \n",
      "    @is_admin\n",
      "    def get_greeting(self, username):\n",
      "        \"\"\"\n",
      "        greeting\n",
      "        \n",
      "        :param username: \uc774\ub984 \n",
      "        :type username: string\n",
      "        \"\"\"\n",
      "        return \"Hello {}\".format(self.current_user)"
     ],
     "language": "python",
     "metadata": {},
     "outputs": [],
     "prompt_number": 64
    },
    {
     "cell_type": "code",
     "collapsed": false,
     "input": [
      "greet = Greet()"
     ],
     "language": "python",
     "metadata": {},
     "outputs": [],
     "prompt_number": 65
    },
    {
     "cell_type": "code",
     "collapsed": false,
     "input": [
      "greet.get_greeting.__name__"
     ],
     "language": "python",
     "metadata": {},
     "outputs": [
      {
       "metadata": {},
       "output_type": "pyout",
       "prompt_number": 66,
       "text": [
        "'get_greeting'"
       ]
      }
     ],
     "prompt_number": 66
    },
    {
     "cell_type": "code",
     "collapsed": false,
     "input": [
      "greet.get_greeting.__doc__"
     ],
     "language": "python",
     "metadata": {},
     "outputs": [
      {
       "metadata": {},
       "output_type": "pyout",
       "prompt_number": 67,
       "text": [
        "'\\n        greeting\\n        \\n        :param username: \\xec\\x9d\\xb4\\xeb\\xa6\\x84 \\n        :type username: string\\n        '"
       ]
      }
     ],
     "prompt_number": 67
    },
    {
     "cell_type": "markdown",
     "metadata": {},
     "source": [
      "## \ub370\ucf54\ub808\uc774\ud130\uc5d0\uac8c \uc778\uc790 \ub118\uae30\uae30\n",
      "\ub370\ucf54\ub808\uc774\ud130\uc5d0\ub3c4 \ucd94\uac00 \uc778\uc790\ub97c \ub118\uaca8\uc904 \uc218 \uc788\ub2e4.  \n",
      "\uc774\ub54c\ub294 \ub370\ucf54\ub808\uc774\ud130\ub97c \uc815\uc758\ud558\ub294 \uac83\uc774 \uc544\ub2c8\ub77c \ub370\ucf54\ub808\uc774\ud130\ub97c \ub9cc\ub4e4\uc5b4\uc8fc\ub294 \ud568\uc218\ub97c \uc815\uc758\ud55c\ub2e4\uace0 \ubcfc \uc218 \uc788\ub2e4.  "
     ]
    },
    {
     "cell_type": "code",
     "collapsed": false,
     "input": [
      "def add_tags(tag_name):\n",
      "    print(\"Gernerate decorator\")\n",
      "    def set_decorator(func):\n",
      "        def wrapper(username):\n",
      "            return \"<{0}>{1}</{0}>\".format(tag_name, func(username))\n",
      "        return wrapper\n",
      "    return set_decorator\n",
      "\n",
      "@add_tags(\"div\")\n",
      "def greeting(name):\n",
      "    return \"Hello \" + name"
     ],
     "language": "python",
     "metadata": {},
     "outputs": [
      {
       "output_type": "stream",
       "stream": "stdout",
       "text": [
        "Gernerate decorator\n"
       ]
      }
     ],
     "prompt_number": 77
    },
    {
     "cell_type": "code",
     "collapsed": false,
     "input": [
      "print greeting(\"Jonnung\")"
     ],
     "language": "python",
     "metadata": {},
     "outputs": [
      {
       "output_type": "stream",
       "stream": "stdout",
       "text": [
        "<div>Hello Jonnung</div>\n"
       ]
      }
     ],
     "prompt_number": 78
    },
    {
     "cell_type": "markdown",
     "metadata": {},
     "source": [
      "## \ud074\ub798\uc2a4(class)\ub85c \ub370\ucf54\ub808\uc774\ud130 \ub9cc\ub4e4\uae30\n"
     ]
    },
    {
     "cell_type": "code",
     "collapsed": false,
     "input": [
      "class Sample(object):\n",
      "    def __init__(self):\n",
      "        print(\"init\")\n",
      "    def __call__(self):\n",
      "        print(\"call\")"
     ],
     "language": "python",
     "metadata": {},
     "outputs": [],
     "prompt_number": 92
    },
    {
     "cell_type": "code",
     "collapsed": false,
     "input": [
      "sample = Sample()"
     ],
     "language": "python",
     "metadata": {},
     "outputs": [
      {
       "output_type": "stream",
       "stream": "stdout",
       "text": [
        "init\n"
       ]
      }
     ],
     "prompt_number": 93
    },
    {
     "cell_type": "code",
     "collapsed": false,
     "input": [
      "sample()"
     ],
     "language": "python",
     "metadata": {},
     "outputs": [
      {
       "output_type": "stream",
       "stream": "stdout",
       "text": [
        "call\n"
       ]
      }
     ],
     "prompt_number": 94
    },
    {
     "cell_type": "markdown",
     "metadata": {},
     "source": [
      "\ud074\ub798\uc2a4\uc758 \uc778\uc2a4\ud134\uc2a4\ub97c \ud568\uc218\ucc98\ub7fc \ud638\ucd9c\ud558\uae30 \uc704\ud574\uc11c \ud074\ub798\uc2a4\uc5d0 \\_\\_call\\_\\_ \uc774\ub77c\ub294 \ub9e4\uc9c1 \uba54\uc18c\ub4dc\ub97c \uc815\uc758\ud588\ub2e4.  \n",
      "\uc774 \uc6d0\ub9ac\ub97c \uc774\uc6a9\ud574\uc11c \ud074\ub798\uc2a4\ub97c \ub370\ucf54\ub808\uc774\ud130\ub85c \uad6c\ud604\ud560 \uc218 \uc788\ub2e4.  "
     ]
    },
    {
     "cell_type": "code",
     "collapsed": false,
     "input": [
      "from functools import wraps\n",
      "\n",
      "class OnlyAdmin(object):\n",
      "    def __init__(self, func):\n",
      "        self.func = func\n",
      "\n",
      "    def __call__(self, *args, **kwargs):\n",
      "        name = kwargs.get('name').upper()\n",
      "        self.func(name)\n",
      "\n",
      "@OnlyAdmin\n",
      "def greet(name):\n",
      "    print(\"Hello {}\".format(name))"
     ],
     "language": "python",
     "metadata": {},
     "outputs": [],
     "prompt_number": 106
    },
    {
     "cell_type": "code",
     "collapsed": false,
     "input": [
      "greet(name='Eunwoo')"
     ],
     "language": "python",
     "metadata": {},
     "outputs": [
      {
       "output_type": "stream",
       "stream": "stdout",
       "text": [
        "Hello EUNWOO\n"
       ]
      }
     ],
     "prompt_number": 107
    }
   ],
   "metadata": {}
  }
 ]
}