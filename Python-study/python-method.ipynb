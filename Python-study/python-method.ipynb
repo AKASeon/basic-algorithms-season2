{
 "metadata": {
  "name": "",
  "signature": "sha256:11d57060a804a052c51acccc2c54970cb3a560caaef1f50912dbac3d35564498"
 },
 "nbformat": 3,
 "nbformat_minor": 0,
 "worksheets": [
  {
   "cells": [
    {
     "cell_type": "markdown",
     "metadata": {},
     "source": [
      "## \ud30c\uc774\uc36c\uc758 method\n",
      "\uba54\uc18c\ub4dc(method)\ub294 \ud074\ub798\uc2a4\uc758 attribute\ub85c \uc800\uc7a5\ub418\ub294 \ud568\uc218.  "
     ]
    },
    {
     "cell_type": "code",
     "collapsed": false,
     "input": [
      "class Coffee(object):\n",
      "    def __init__(self, size=\"tall\"):\n",
      "        self.size = size\n",
      "    \n",
      "    def get_size(self):\n",
      "        return self.size"
     ],
     "language": "python",
     "metadata": {},
     "outputs": [],
     "prompt_number": 6
    },
    {
     "cell_type": "markdown",
     "metadata": {},
     "source": [
      "### \ud074\ub798\uc2a4\ub85c\ubd80\ud130 method\ub97c \ubc14\ub85c \uc811\uadfc"
     ]
    },
    {
     "cell_type": "code",
     "collapsed": false,
     "input": [
      "Coffee.get_size"
     ],
     "language": "python",
     "metadata": {},
     "outputs": [
      {
       "metadata": {},
       "output_type": "pyout",
       "prompt_number": 2,
       "text": [
        "<unbound method Coffee.get_size>"
       ]
      }
     ],
     "prompt_number": 2
    },
    {
     "cell_type": "markdown",
     "metadata": {},
     "source": [
      "\uac1d\uccb4\uc640 \uc5f0\uacb0\ub418\uc9c0 \uc54a\uc740 \uadf8\ub0e5 \ud568\uc218\uc77c\ubfd0\uc774\ub2e4.  \n",
      "\ud638\ucd9c\ud558\uba74 \uc5d0\ub7ec\uac00 \ubc1c\uc0dd \ud55c\ub2e4.  "
     ]
    },
    {
     "cell_type": "code",
     "collapsed": false,
     "input": [
      "Coffee.get_size()"
     ],
     "language": "python",
     "metadata": {},
     "outputs": [
      {
       "ename": "TypeError",
       "evalue": "unbound method get_size() must be called with Coffee instance as first argument (got nothing instead)",
       "output_type": "pyerr",
       "traceback": [
        "\u001b[0;31m---------------------------------------------------------------------------\u001b[0m\n\u001b[0;31mTypeError\u001b[0m                                 Traceback (most recent call last)",
        "\u001b[0;32m<ipython-input-7-3811da7dabed>\u001b[0m in \u001b[0;36m<module>\u001b[0;34m()\u001b[0m\n\u001b[0;32m----> 1\u001b[0;31m \u001b[0mCoffee\u001b[0m\u001b[0;34m.\u001b[0m\u001b[0mget_size\u001b[0m\u001b[0;34m(\u001b[0m\u001b[0;34m)\u001b[0m\u001b[0;34m\u001b[0m\u001b[0m\n\u001b[0m",
        "\u001b[0;31mTypeError\u001b[0m: unbound method get_size() must be called with Coffee instance as first argument (got nothing instead)"
       ]
      }
     ],
     "prompt_number": 7
    },
    {
     "cell_type": "markdown",
     "metadata": {},
     "source": [
      "\ud558\uc9c0\ub9cc \uba54\uc18c\ub4dc\uc5d0 \ud074\ub798\uc2a4\uc758 \uc778\uc2a4\ud134\uc2a4\ub97c \ub118\uaca8\uc8fc\uba74 \uc6d0\ud558\ub294\ub300\ub85c \ub3d9\uc791\uc744 \ud55c\ub2e4. "
     ]
    },
    {
     "cell_type": "code",
     "collapsed": false,
     "input": [
      "Coffee.get_size(Coffee(\"grande\"))"
     ],
     "language": "python",
     "metadata": {},
     "outputs": [
      {
       "metadata": {},
       "output_type": "pyout",
       "prompt_number": 10,
       "text": [
        "'grande'"
       ]
      }
     ],
     "prompt_number": 10
    },
    {
     "cell_type": "markdown",
     "metadata": {},
     "source": [
      "\uc989, \ud30c\uc774\uc36c\uc740 \uadf8\uc800 \uba54\uc18c\ub4dc\ub97c \ud638\ucd9c\ud560 \ub54c \uba54\uc18c\ub4dc\uc640 \uc778\uc2a4\ud134\uc2a4\ub97c \ubc14\uc778\ub529\ud558\ub294 \uc791\uc5c5\uc744 \ud574\uc900\ub2e4.  \n",
      "\ub2e4\uc2dc\ub9d0\ud574 \uc6b0\ub9ac\ub294 \uac1d\uccb4(\ud074\ub798\uc2a4\uc758 \uc778\uc2a4\ud134\uc2a4)\uc5d0\uc11c \uba54\uc18c\ub4dc\ub85c \uc811\uadfc\ud560 \uc218 \uc788\uace0, \ud30c\uc774\uc36c\uc740 \uc790\ub3d9\uc73c\ub85c \uac1d\uccb4 \uc790\uc2e0\uc744 \uba54\uc18c\ub4dc\uc758 self \uc778\uc790\ub85c \ub118\uaca8\uc900\ub2e4. "
     ]
    },
    {
     "cell_type": "code",
     "collapsed": false,
     "input": [
      "Coffee(\"grande\").get_size"
     ],
     "language": "python",
     "metadata": {},
     "outputs": [
      {
       "metadata": {},
       "output_type": "pyout",
       "prompt_number": 11,
       "text": [
        "<bound method Coffee.get_size of <__main__.Coffee object at 0x103c67910>>"
       ]
      }
     ],
     "prompt_number": 11
    },
    {
     "cell_type": "code",
     "collapsed": false,
     "input": [
      "Coffee(\"grande\").get_size()"
     ],
     "language": "python",
     "metadata": {},
     "outputs": [
      {
       "metadata": {},
       "output_type": "pyout",
       "prompt_number": 12,
       "text": [
        "'grande'"
       ]
      }
     ],
     "prompt_number": 12
    },
    {
     "cell_type": "code",
     "collapsed": false,
     "input": [
      "Coffee(\"grande\").get_size.__self__"
     ],
     "language": "python",
     "metadata": {},
     "outputs": [
      {
       "metadata": {},
       "output_type": "pyout",
       "prompt_number": 13,
       "text": [
        "<__main__.Coffee at 0x103c67990>"
       ]
      }
     ],
     "prompt_number": 13
    },
    {
     "cell_type": "markdown",
     "metadata": {},
     "source": [
      "# static method\n",
      "\uc815\uc801 \uba54\uc18c\ub4dc(static method)\ub294 \ud074\ub798\uc2a4\uc758 \uc778\uc2a4\ud134\uc2a4\ub97c \uc0ac\uc6a9\ud558\uc9c0 \uc54a\ub294 \uba54\uc18c\ub4dc."
     ]
    },
    {
     "cell_type": "code",
     "collapsed": false,
     "input": [
      "class Poker(object):\n",
      "    width = 10\n",
      "    height = 25\n",
      "    \n",
      "    @staticmethod\n",
      "    def set_size(w, h):\n",
      "        Poker.width = w\n",
      "        Poker.height = h\n",
      "        return Poker.width, Poker.height"
     ],
     "language": "python",
     "metadata": {},
     "outputs": [],
     "prompt_number": 1
    },
    {
     "cell_type": "markdown",
     "metadata": {},
     "source": [
      "### @staticmethod \uc758 \uc5ec\ub7ec\uac00\uc9c0 \uae30\ub2a5\ub4e4\n",
      "- \uac1d\uccb4\ub97c \ub9cc\ub4e4\ub54c \ubc14\uc6b4\ub4dc \uba54\uc18c\ub4dc\ub97c \ub9e4\ubc88 \uc778\uc2a4\ud134\uc2a4\ud654\ud560 \ud544\uc694\uac00 \uc5c6\uc74c."
     ]
    },
    {
     "cell_type": "code",
     "collapsed": false,
     "input": [
      "Poker().set_size is Poker.set_size"
     ],
     "language": "python",
     "metadata": {},
     "outputs": [
      {
       "metadata": {},
       "output_type": "pyout",
       "prompt_number": 108,
       "text": [
        "True"
       ]
      }
     ],
     "prompt_number": 108
    },
    {
     "cell_type": "markdown",
     "metadata": {},
     "source": [
      "- \ucf54\ub4dc\uc758 \uac00\ub3c5\uc131 \ud5a5\uc0c1. @staticmethod \ub370\ucf54\ub808\uc774\ud130\ub97c \ubcf4\uba74 \ud574\ub2f9 \uba54\uc18c\ub4dc\ub294 \uac1d\uccb4 \uc0c1\ud0dc\uc5d0 \uc758\uc874\uc801\uc774\uc9c0 \uc54a\ub2e4\ub294 \uac83\uc744 \uc54c \uc218 \uc788\uc74c.\n",
      "- \ud558\uc704 \ud074\ub798\uc2a4\uc5d0\uc11c \uc815\uc801 \uba54\uc18c\ub4dc\ub97c \uc624\ubc84\ub77c\uc774\ub4dc \ud560 \uc218 \uc788\ub2e4. "
     ]
    },
    {
     "cell_type": "markdown",
     "metadata": {},
     "source": [
      "#### \ucc38\uace0: \ud30c\uc774\uc36c\uc758 static variable\n",
      "\ud30c\uc774\uc36c\uc740 **\ud074\ub798\uc2a4 \ub808\ubca8**\uc5d0\uc11c \uc120\uc5b8\ub41c \ubaa8\ub4e0 \ubcc0\uc218\ub294 static."
     ]
    },
    {
     "cell_type": "code",
     "collapsed": false,
     "input": [
      "Poker.width"
     ],
     "language": "python",
     "metadata": {},
     "outputs": [
      {
       "metadata": {},
       "output_type": "pyout",
       "prompt_number": 2,
       "text": [
        "10"
       ]
      }
     ],
     "prompt_number": 2
    },
    {
     "cell_type": "markdown",
     "metadata": {},
     "source": [
      "# class method\n",
      "\uc778\uc2a4\ud134\uc2a4\uac00 \uc544\ub2cc \ud074\ub798\uc2a4\uc5d0 \ubc14\uc6b4\ub4dc \ub418\ub294 \uba54\uc18c\ub4dc\uc774\uba70, \uccab\ubc88\uc9f8 \uc778\uc790\ub294 \ud074\ub798\uc2a4 \uc790\uc2e0\uc774 \ub41c\ub2e4.  \n",
      "\uacb0\uad6d \ud30c\uc774\uc36c\uc758 \ud074\ub798\uc2a4 \uba54\uc18c\ub4dc\ub3c4 \uc815\uc801 \uba54\uc18c\ub4dc\ub77c\uace0 \ud560 \uc218 \uc788\ub2e4. "
     ]
    },
    {
     "cell_type": "code",
     "collapsed": false,
     "input": [
      "class Pizza(object):\n",
      "    status = '0'\n",
      "    radius = 42\n",
      "    \n",
      "    @classmethod\n",
      "    def get_status_dd(cls):\n",
      "        return cls.status\n",
      "    \n",
      "    @staticmethod\n",
      "    def set_status():\n",
      "        Pizza.status = '1'\n",
      "    \n",
      "    @staticmethod\n",
      "    def get_status():\n",
      "        return Pizza.status\n",
      "        \n",
      "class CheesePizza(Pizza):\n",
      "    status = '2'\n",
      "\n",
      "CheesePizza.set_status()"
     ],
     "language": "python",
     "metadata": {},
     "outputs": [],
     "prompt_number": 6
    },
    {
     "cell_type": "code",
     "collapsed": false,
     "input": [
      "CheesePizza.get_status()"
     ],
     "language": "python",
     "metadata": {},
     "outputs": [
      {
       "metadata": {},
       "output_type": "pyout",
       "prompt_number": 7,
       "text": [
        "'1'"
       ]
      }
     ],
     "prompt_number": 7
    },
    {
     "cell_type": "code",
     "collapsed": false,
     "input": [
      "CheesePizza.get_status_dd()"
     ],
     "language": "python",
     "metadata": {},
     "outputs": [
      {
       "metadata": {},
       "output_type": "pyout",
       "prompt_number": 8,
       "text": [
        "'2'"
       ]
      }
     ],
     "prompt_number": 8
    },
    {
     "cell_type": "code",
     "collapsed": false,
     "input": [
      "Pizza.get_radius()"
     ],
     "language": "python",
     "metadata": {},
     "outputs": [
      {
       "metadata": {},
       "output_type": "pyout",
       "prompt_number": 120,
       "text": [
        "42"
       ]
      }
     ],
     "prompt_number": 120
    },
    {
     "cell_type": "code",
     "collapsed": false,
     "input": [
      "class CheesePizza(Pizza):\n",
      "    radius = 40"
     ],
     "language": "python",
     "metadata": {},
     "outputs": [],
     "prompt_number": 121
    },
    {
     "cell_type": "code",
     "collapsed": false,
     "input": [
      "CheesePizza.get_radius()"
     ],
     "language": "python",
     "metadata": {},
     "outputs": [
      {
       "metadata": {},
       "output_type": "pyout",
       "prompt_number": 122,
       "text": [
        "40"
       ]
      }
     ],
     "prompt_number": 122
    },
    {
     "cell_type": "code",
     "collapsed": false,
     "input": [
      "class PotatoPizza(Pizza):\n",
      "    status = True"
     ],
     "language": "python",
     "metadata": {},
     "outputs": [],
     "prompt_number": 124
    },
    {
     "cell_type": "code",
     "collapsed": false,
     "input": [
      "PotatoPizza.get_status()"
     ],
     "language": "python",
     "metadata": {},
     "outputs": [
      {
       "metadata": {},
       "output_type": "pyout",
       "prompt_number": 125,
       "text": [
        "False"
       ]
      }
     ],
     "prompt_number": 125
    },
    {
     "cell_type": "markdown",
     "metadata": {},
     "source": [
      "\ud074\ub798\uc2a4 \uba54\uc18c\ub4dc\ub294 \uc0c1\uc18d\uc744 \uc0ac\uc6a9\ud588\uc744\ub54c \uba54\uc18c\ub4dc\ub97c \uc7ac\uc815\uc758\ud560 \ud544\uc694\uc5c6\uc774 \uc790\uc2dd \ud074\ub798\uc2a4\uc758 \uba64\ubc84 \ubcc0\uc218\ub97c \ubcc0\uacbd\ud560 \uc218 \uc788\ub2e4. "
     ]
    },
    {
     "cell_type": "code",
     "collapsed": false,
     "input": [],
     "language": "python",
     "metadata": {},
     "outputs": []
    }
   ],
   "metadata": {}
  }
 ]
}