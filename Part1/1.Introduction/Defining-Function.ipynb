{
 "cells": [
  {
   "cell_type": "markdown",
   "metadata": {},
   "source": [
    "# Defining Functions\n",
    "- 함수는 코드의 반복을 줄이고, 로직의 세부 정보를 숨길 수 있다. "
   ]
  },
  {
   "cell_type": "markdown",
   "metadata": {},
   "source": [
    "- 인자값이 있는 경우, 없는 경우."
   ]
  },
  {
   "cell_type": "code",
   "execution_count": 1,
   "metadata": {
    "collapsed": false
   },
   "outputs": [
    {
     "name": "stdout",
     "output_type": "stream",
     "text": [
      "Hello world\n",
      "Hi, jonnung?\n"
     ]
    }
   ],
   "source": [
    "def say_hello():\n",
    "    print('Hello world')\n",
    "\n",
    "def say_hi(yourname):\n",
    "    print(\"Hi, {}?\".format(yourname))\n",
    "\n",
    "say_hello()\n",
    "say_hi('jonnung')"
   ]
  },
  {
   "cell_type": "markdown",
   "metadata": {},
   "source": [
    "- 반환값이 있는 경우, 없는 경우. 하지만 반환값은 언제나 하나."
   ]
  },
  {
   "cell_type": "code",
   "execution_count": 2,
   "metadata": {
    "collapsed": false
   },
   "outputs": [
    {
     "name": "stdout",
     "output_type": "stream",
     "text": [
      "3\n",
      "1와 2의 합은 3 입니다.\n"
     ]
    }
   ],
   "source": [
    "def get_sum(bar, foo):\n",
    "    return bar + foo\n",
    "\n",
    "def check_sum_result(bar, foo):\n",
    "    print(\"{}와 {}의 합은 {} 입니다.\".format(bar, foo, bar + foo))\n",
    "\n",
    "sum_result = get_sum(1, 2)\n",
    "print(sum_result)\n",
    "check_sum_result(1, 2)"
   ]
  },
  {
   "cell_type": "markdown",
   "metadata": {},
   "source": [
    "- 인자값의 개수를 정할 수 없을 때."
   ]
  },
  {
   "cell_type": "code",
   "execution_count": 3,
   "metadata": {
    "collapsed": false
   },
   "outputs": [
    {
     "name": "stdout",
     "output_type": "stream",
     "text": [
      "28\n"
     ]
    }
   ],
   "source": [
    "def get_sum_all(*args):\n",
    "    temp = 0\n",
    "    for i in args:\n",
    "        temp += i\n",
    "    return temp\n",
    "\n",
    "sum_all_result = get_sum_all(1, 2, 3, 4, 5, 6, 7)\n",
    "print(sum_all_result)"
   ]
  },
  {
   "cell_type": "markdown",
   "metadata": {},
   "source": [
    "- \\*args 는 입력받은 인자값을 전부 모아 튜플(tuple)로 만듬\n",
    "- \\*\\*kwargs 는 키워드 인자값은 전부 모아 사전(dictionary)로 만듬"
   ]
  },
  {
   "cell_type": "code",
   "execution_count": 4,
   "metadata": {
    "collapsed": false
   },
   "outputs": [],
   "source": [
    "def get_sum_by_type(*args, **kwargs):\n",
    "    print type(args)\n",
    "    print args\n",
    "    print type(kwargs)\n",
    "    print kwargs"
   ]
  },
  {
   "cell_type": "code",
   "execution_count": 5,
   "metadata": {
    "collapsed": false
   },
   "outputs": [
    {
     "name": "stdout",
     "output_type": "stream",
     "text": [
      "<type 'tuple'>\n",
      "(1, 2, 3)\n",
      "<type 'dict'>\n",
      "{'type': 'even'}\n"
     ]
    }
   ],
   "source": [
    "get_sum_by_type(1, 2, 3, type='even')"
   ]
  },
  {
   "cell_type": "code",
   "execution_count": 6,
   "metadata": {
    "collapsed": false
   },
   "outputs": [
    {
     "ename": "SyntaxError",
     "evalue": "non-keyword arg after keyword arg (<ipython-input-6-7f6db62e8895>, line 1)",
     "output_type": "error",
     "traceback": [
      "\u001b[1;36m  File \u001b[1;32m\"<ipython-input-6-7f6db62e8895>\"\u001b[1;36m, line \u001b[1;32m1\u001b[0m\n\u001b[1;33m    get_sum_by_type(type='even', 1, 2, 3)\u001b[0m\n\u001b[1;31mSyntaxError\u001b[0m\u001b[1;31m:\u001b[0m non-keyword arg after keyword arg\n"
     ]
    }
   ],
   "source": [
    "get_sum_by_type(type='even', 1, 2, 3)"
   ]
  },
  {
   "cell_type": "code",
   "execution_count": 7,
   "metadata": {
    "collapsed": false
   },
   "outputs": [
    {
     "name": "stdout",
     "output_type": "stream",
     "text": [
      "<type 'tuple'>\n",
      "(1, 2, 3)\n",
      "<type 'dict'>\n",
      "{'type': 'odd'}\n"
     ]
    }
   ],
   "source": [
    "int_list = [1, 2, 3]\n",
    "type_dict = {\"type\": \"odd\"}\n",
    "get_sum_by_type(*int_list, **type_dict)"
   ]
  }
 ],
 "metadata": {
  "kernelspec": {
   "display_name": "Python 2",
   "language": "python",
   "name": "python2"
  },
  "language_info": {
   "codemirror_mode": {
    "name": "ipython",
    "version": 2
   },
   "file_extension": ".py",
   "mimetype": "text/x-python",
   "name": "python",
   "nbconvert_exporter": "python",
   "pygments_lexer": "ipython2",
   "version": "2.7.6"
  }
 },
 "nbformat": 4,
 "nbformat_minor": 0
}
