{
 "cells": [
  {
   "cell_type": "markdown",
   "metadata": {},
   "source": [
    "# Exception Handling\n",
    "- Syntax error\n",
    "    - 개발자의 실수, 문법 오류\n",
    "- Logic error ---> **Exceptions**\n",
    "    - 0 으로 나누려고 할 때\n",
    "    - 리스트의 경계를 벗어나는 인덱스에 접근할 때 등등\n",
    "    - logic error 가 발생하면 프로그램이 종료됨\n",
    "- 에러를 무시하거나, 적절한 처리를 하고 싶을 때가 생기게 됨\n",
    "- 개발자가 직접 에러를 발생 시킬 수 있음 \"**raised**\""
   ]
  },
  {
   "cell_type": "code",
   "execution_count": null,
   "metadata": {
    "collapsed": true
   },
   "outputs": [],
   "source": []
  }
 ],
 "metadata": {
  "kernelspec": {
   "display_name": "Python 2",
   "language": "python",
   "name": "python2"
  },
  "language_info": {
   "codemirror_mode": {
    "name": "ipython",
    "version": 2
   },
   "file_extension": ".py",
   "mimetype": "text/x-python",
   "name": "python",
   "nbconvert_exporter": "python",
   "pygments_lexer": "ipython2",
   "version": "2.7.6"
  }
 },
 "nbformat": 4,
 "nbformat_minor": 0
}
