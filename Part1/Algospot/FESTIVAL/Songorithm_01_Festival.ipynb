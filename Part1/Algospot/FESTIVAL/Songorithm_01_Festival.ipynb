{
 "cells": [
  {
   "cell_type": "markdown",
   "metadata": {},
   "source": [
    "#Songorithm\n",
    "##01.Festival Problem(sangbae.Lim, itwizard1@gmail.com)\n"
   ]
  },
  {
   "cell_type": "markdown",
   "metadata": {},
   "source": [
    "### 풀이 방식\n",
    "### 록 페스티벌(FESTIVAL)\n",
    "- 시간 제한: 20,000ms\n",
    "- 메모리 제한: 65,536kb\n",
    "- 문제 원본: [알고스팟](https://algospot.com/judge/problem/read/FESTIVAL)\n",
    "- 문제 요약\n",
    "    - 하루에 한팀의 밴드가 공연장에서 콘서트를 진행\n",
    "    - 섭외할 밴드가 총 몇 팀인지는 아직 모름\n",
    "    - 간판 스타인 L개의 팀은 이미 섭외가 완료. 따라서 페스티벌은 최소 L일 이상 진행하게 됨\n",
    "    - 공연장을 하루 빌리는데 드는 비용이 매일 매일 다름\n",
    "    - 따라서 공연 일정을 잘 조정해서 공연장 대여 비용을 줄이려함\n",
    "    - 문제 나갑니다!\n",
    "        - 앞으로 N일간의 공연장 **대여 비용을 알고 있음**\n",
    "        - 이 중 **L일 이상을 연속해서 대여**하되, 공연장을 **하루 빌리는데 드는 평균 비용을 최소화**하려면 어떻게 공연장을 빌려야 할까?"
   ]
  },
  {
   "cell_type": "markdown",
   "metadata": {},
   "source": [
    "- 공연일이 6일, 팀이 3팀이라고 가정해보자\n",
    "- 비용이 1,2,3,1,2,3 이라면 어떻게 계산할까?\n",
    "- 팀이 3이기 때문에 최소 3일 이상을 연속 대여해야 한다. 따라서 배열로 보면 0부터 5까지 배열을 다음과 같이 조합하여 평균 비용을 계산한다.\n",
    "    - [0,1,2], [0,1,2,3], [0,1,2,3,4],[0,1,2,3,4,5]\n",
    "    - [1,2,3],[1,2,3,4],[1,2,3,4,5]\n",
    "    - [2,3,4],[2,3,4,5]\n",
    "    - [3,4,5]\n",
    "    "
   ]
  },
  {
   "cell_type": "code",
   "execution_count": null,
   "metadata": {},
   "outputs": [],
   "source": [
    "tc = int(raw_input())"
   ]
  },
  {
   "cell_type": "markdown",
   "metadata": {},
   "source": [
    "- 몇 개의 입력이 있는지 Read\n",
    "- 100 이라면 파일의 다음 라인에는 공연일수 팀수 한라인 그리고 다음 라인은 공연비용이 있는 라인이 100번=>200라인"
   ]
  },
  {
   "cell_type": "code",
   "execution_count": null,
   "metadata": {},
   "outputs": [],
   "source": [
    "for t in xrange(tc):\n",
    "\tnDay, nTeam = [int(x) for x in raw_input().split()]\n",
    "\tFestivalCostList = [int(x) for x in raw_input().split()]\n",
    "\t\n",
    "\tprint '%.11f' % Calculate_Min_Cost(nDay, nTeam, FestivalCostList)"
   ]
  },
  {
   "cell_type": "markdown",
   "metadata": {},
   "source": [
    "- nDay에 공연일수를, nTeam에 공연팀 수를 할당한다.\n",
    "- Python은 Indentation으로 해당 블럭의 수행 범위를 지정한다. "
   ]
  },
  {
   "cell_type": "code",
   "execution_count": null,
   "metadata": {},
   "outputs": [],
   "source": [
    "print '%.11f' % Calculate_Min_Cost(nDay, nTeam, FestivalCostList)"
   ]
  },
  {
   "cell_type": "markdown",
   "metadata": {},
   "source": [
    "- 공연 최저 비용을 계산하는 함수에 입력 받은 내용을 넘겨준다."
   ]
  },
  {
   "cell_type": "code",
   "execution_count": null,
   "metadata": {},
   "outputs": [],
   "source": [
    "def Calculate_Min_Cost(nDay, nTeam, FestivalCostList):\n",
    "\tLowestCost=100\n",
    "\n",
    "\tfor x in xrange(0,nDay - nTeam + 1):\n",
    "\t\ttempTotal=sum(FestivalCostList[x:nTeam+x-1]) * 1.0\n",
    "\t\tfor y in xrange(nTeam + x-1, nDay):\n",
    "\t\t\ttempTotal += FestivalCostList[y]\n",
    "\t\t\ttempAvgCost = tempTotal/(y-x+1)\n",
    "\t\t\tif LowestCost > tempAvgCost:\n",
    "\t\t\t\tLowestCost = tempAvgCost\n",
    "\treturn LowestCost"
   ]
  },
  {
   "cell_type": "markdown",
   "metadata": {},
   "source": [
    "- 실제 최저 비용을 계산하는 함수를 살펴보면"
   ]
  },
  {
   "cell_type": "code",
   "execution_count": null,
   "metadata": {},
   "outputs": [],
   "source": [
    "LowestCost=100"
   ]
  },
  {
   "cell_type": "markdown",
   "metadata": {},
   "source": [
    "> 입력의 첫 줄에는 테스트 케이스의 수 C (C ≤ 100)가 주어집니다. 각 테스트 케이스의 첫 줄에는 공연장을 대여할 수 있는 날들의 수 N (1 ≤ N ≤ 1000)과 이미 섭외한 공연 팀의 수 L (1 ≤ L ≤ 1000, L ≤ N)이 주어집니다. 그 다음 줄에는 N개의 숫자로 공연장 대여 비용이 날짜별로 주어집니다. 모든 비용은 100 이하의 자연수입니다."
   ]
  },
  {
   "cell_type": "markdown",
   "metadata": {},
   "source": [
    "- 입력 비용은 100이하의 자연수라니 최저 비용은 100에서 시작하여 더 낮은 비용이 계산되면 최저비용을 update한다."
   ]
  },
  {
   "cell_type": "code",
   "execution_count": null,
   "metadata": {},
   "outputs": [],
   "source": [
    "for x in xrange(0,nDay - nTeam + 1):\n",
    "\t\ttempTotal=sum(FestivalCostList[x:nTeam+x-1]) * 1.0"
   ]
  },
  {
   "cell_type": "markdown",
   "metadata": {},
   "source": [
    "- 배열 첫 위치부터 공연일자-팀수+1까지 첫 번째 루프를 수행\n",
    "- 만약 공연일자가 6, 팀이 3이라면 배열의 첫번째인 0부터 4(6-3+1) 미만까지 첫 번째 루프 수행\n",
    "- 두 번째 루프 들어가기 전에 계산할 수 있는 것 우선 계산 만약에 [0,1,2]를 계산해야 한다면 [0,1]번 위치의 데이터를 우선 SUM\n",
    "- 소수점 까지 표현 될 수 있도록 1.0을 곱함"
   ]
  },
  {
   "cell_type": "code",
   "execution_count": null,
   "metadata": {},
   "outputs": [],
   "source": [
    "for y in xrange(nTeam + x-1, nDay):\n",
    "\t\t\ttempTotal += FestivalCostList[y]\n",
    "\t\t\ttempAvgCost = tempTotal/(y-x+1)\n",
    "\t\t\tif LowestCost > tempAvgCost:\n",
    "\t\t\t\tLowestCost = tempAvgCost"
   ]
  },
  {
   "cell_type": "markdown",
   "metadata": {},
   "source": [
    "- 두 번째 루프에서 앞에서 계산한 [0,1] 번 위치 값에 [2]번 위치 값까지 SUM한 후 평균 비용 계산\n",
    "- 기존 평균 비용 보다 낮다면 최저 평균 비용 값을 갱신\n",
    "- 다음 번 수행에서는 [0,1,2]+[3] 번 위치 값까지 포함하여 SUM 한 후 평균 계산하여 최저 평균 비용 비교 수행"
   ]
  },
  {
   "cell_type": "code",
   "execution_count": null,
   "metadata": {},
   "outputs": [],
   "source": [
    "return LowestCost"
   ]
  },
  {
   "cell_type": "markdown",
   "metadata": {},
   "source": [
    "- 최종 계산된 입력 라인에 대한 최저 평균 비용 반환"
   ]
  },
  {
   "cell_type": "markdown",
   "metadata": {},
   "source": [
    "## 최종 수행 소스"
   ]
  },
  {
   "cell_type": "code",
   "execution_count": 6,
   "metadata": {},
   "outputs": [
    {
     "name": "stdout",
     "output_type": "stream",
     "text": [
      "1\n",
      "6 3\n",
      "1 2 3 1 2 3\n",
      "1.75000000000\n"
     ]
    }
   ],
   "source": [
    "def Calculate_Min_Cost(nDay, nTeam, FestivalCostList):\n",
    "\tLowestCost=100\n",
    "\n",
    "\tfor x in xrange(0,nDay - nTeam + 1):\n",
    "\t\ttempTotal=sum(FestivalCostList[x:nTeam+x-1]) * 1.0\n",
    "\t\tfor y in xrange(nTeam + x-1, nDay):\n",
    "\t\t\ttempTotal += FestivalCostList[y]\n",
    "\t\t\ttempAvgCost = tempTotal/(y-x+1)\n",
    "\t\t\tif LowestCost > tempAvgCost:\n",
    "\t\t\t\tLowestCost = tempAvgCost\n",
    "\treturn LowestCost\n",
    "\n",
    "tc = int(raw_input())\n",
    "\n",
    "for t in xrange(tc):\n",
    "\tnDay, nTeam = [int(x) for x in raw_input().split()]\n",
    "\tFestivalCostList = [int(x) for x in raw_input().split()]\n",
    "    \n",
    "\tprint '%.11f' % Calculate_Min_Cost(nDay, nTeam, FestivalCostList)"
   ]
  }
 ],
 "metadata": {
  "kernelspec": {
   "display_name": "Python 2",
   "language": "python",
   "name": "python2"
  },
  "language_info": {
   "codemirror_mode": {
    "name": "ipython",
    "version": 2.0
   },
   "file_extension": ".py",
   "mimetype": "text/x-python",
   "name": "python",
   "nbconvert_exporter": "python",
   "pygments_lexer": "ipython2",
   "version": "2.7.9"
  }
 },
 "nbformat": 4,
 "nbformat_minor": 0
}